{
 "cells": [
  {
   "cell_type": "code",
   "execution_count": 38,
   "id": "29cbc1ae-4aa1-4f5f-8a3f-f2948473f2cc",
   "metadata": {},
   "outputs": [
    {
     "name": "stdout",
     "output_type": "stream",
     "text": [
      "[1 2 3 4 5 6]\n"
     ]
    }
   ],
   "source": [
    "#importing numpy\n",
    "import numpy as np\n",
    "arr=np.array([1,2,3,4,5,6])\n",
    "print(arr)"
   ]
  },
  {
   "cell_type": "code",
   "execution_count": 39,
   "id": "9a8da10f-da7b-4bbb-84e4-8ebdbdd16d05",
   "metadata": {},
   "outputs": [
    {
     "name": "stdout",
     "output_type": "stream",
     "text": [
      "1.26.4\n"
     ]
    }
   ],
   "source": [
    "#checking version of numpy\n",
    "print(np.__version__)"
   ]
  },
  {
   "cell_type": "code",
   "execution_count": 40,
   "id": "4fe90b0b-98ec-47f1-8e37-32459b858a28",
   "metadata": {},
   "outputs": [
    {
     "name": "stdout",
     "output_type": "stream",
     "text": [
      "<class 'numpy.ndarray'>\n"
     ]
    }
   ],
   "source": [
    "#print type of array\n",
    "print(type(arr))"
   ]
  },
  {
   "cell_type": "code",
   "execution_count": 41,
   "id": "5f1ad4bc-d917-4d76-b1ed-a005b0785aa8",
   "metadata": {},
   "outputs": [
    {
     "name": "stdout",
     "output_type": "stream",
     "text": [
      "[1 2 3 4 5]\n"
     ]
    }
   ],
   "source": [
    "#use tuple to create numpy array\n",
    "arr=np.array((1,2,3,4,5))\n",
    "print(arr)"
   ]
  },
  {
   "cell_type": "code",
   "execution_count": 42,
   "id": "869fe594-8ff7-4e12-8d45-de4a3f744f2f",
   "metadata": {},
   "outputs": [
    {
     "name": "stdout",
     "output_type": "stream",
     "text": [
      "42\n",
      "0\n",
      "[1 2 3 4 5]\n",
      "1\n",
      "[[1 2 3]\n",
      " [4 5 6]]\n",
      "2\n"
     ]
    }
   ],
   "source": [
    "#0-D array\n",
    "arr=np.array(42)\n",
    "print(arr)\n",
    "print(arr.ndim)\n",
    "\n",
    "#1-D array\n",
    "arr1=np.array([1,2,3,4,5])\n",
    "print(arr1)\n",
    "print(arr1.ndim)\n",
    "\n",
    "#2-D array\n",
    "arr2=np.array([[1,2,3],[4,5,6]])\n",
    "print(arr2)\n",
    "print(arr2.ndim)"
   ]
  },
  {
   "cell_type": "code",
   "execution_count": 43,
   "id": "e4407cd8-59ef-453e-ab9d-5b816a717ff5",
   "metadata": {},
   "outputs": [
    {
     "name": "stdout",
     "output_type": "stream",
     "text": [
      "2\n"
     ]
    }
   ],
   "source": [
    "#Access array elements\n",
    "arr=np.array([1,2,3,4,5])\n",
    "print(arr[1])"
   ]
  },
  {
   "cell_type": "code",
   "execution_count": 44,
   "id": "8e6ebde1-770f-4452-84ce-7a29880f5069",
   "metadata": {},
   "outputs": [
    {
     "name": "stdout",
     "output_type": "stream",
     "text": [
      "6\n",
      "[[1 2 3 4]\n",
      " [5 6 7 8]]\n"
     ]
    }
   ],
   "source": [
    "# access 2-D array\n",
    "arr1=np.array([[1,2,3,4],[5,6,7,8]])\n",
    "print(arr1[1,1])\n",
    "print(arr1)"
   ]
  },
  {
   "cell_type": "code",
   "execution_count": 45,
   "id": "f197c358-23e1-47b9-9f75-840a6b539b8c",
   "metadata": {},
   "outputs": [
    {
     "name": "stdout",
     "output_type": "stream",
     "text": [
      "4\n"
     ]
    }
   ],
   "source": [
    "#Negative indexing\n",
    "print(arr1[0,-1])"
   ]
  },
  {
   "cell_type": "code",
   "execution_count": 46,
   "id": "784b704c-c525-44d9-8ca5-612f949a5474",
   "metadata": {},
   "outputs": [
    {
     "name": "stdout",
     "output_type": "stream",
     "text": [
      "[2 3 4 5]\n",
      "[5 6]\n",
      "[2 4]\n"
     ]
    }
   ],
   "source": [
    "#NumPy array sclicing\n",
    "arr=np.array([1,2,3,4,5,6,7])\n",
    "print(arr[1:5])\n",
    "\n",
    "#negative Sclicing\n",
    "print(arr[-3:-1])\n",
    "\n",
    "#Step\n",
    "print(arr[1:5:2])"
   ]
  },
  {
   "cell_type": "code",
   "execution_count": 47,
   "id": "0c81cff9-8cd3-4871-9c2a-d5f891d0342b",
   "metadata": {},
   "outputs": [
    {
     "name": "stdout",
     "output_type": "stream",
     "text": [
      "int32\n",
      "(9,)\n",
      "[[1 2 3]\n",
      " [4 5 6]\n",
      " [7 8 9]]\n"
     ]
    }
   ],
   "source": [
    "#NumPy data types\n",
    "#checking the data types\n",
    "arr=np.array([1,2,3,4,5,6,7,8,9])\n",
    "print(arr.dtype)\n",
    "\n",
    "#numpy array shape\n",
    "print(arr.shape)\n",
    "\n",
    "#numpy array reshaping\n",
    "new_arr=arr.reshape(3,3)\n",
    "print(new_arr)"
   ]
  },
  {
   "cell_type": "code",
   "execution_count": 48,
   "id": "1d0d7709-d087-432c-baca-36b85cf72696",
   "metadata": {},
   "outputs": [
    {
     "name": "stdout",
     "output_type": "stream",
     "text": [
      "1\n",
      "2\n",
      "3\n",
      "4\n",
      "5\n",
      "[0 1 2 3 4 5 6 7]\n",
      "[array([1, 2, 3, 4]), array([5, 6, 7, 8]), array([9, 0, 3])]\n",
      "(array([3, 5, 7], dtype=int64),)\n",
      "[1 2 3 4 4 4 5 6]\n",
      "[41 43]\n"
     ]
    }
   ],
   "source": [
    "#iterating array\n",
    "arr=np.array([1,2,3,4,5])\n",
    "for i in arr:\n",
    "    print(i)\n",
    "\n",
    "#joining array\n",
    "arr1=np.array([0,1,2,3])\n",
    "arr2=np.array([4,5,6,7])\n",
    "arr=np.concatenate((arr1,arr2))\n",
    "print(arr)\n",
    "\n",
    "#spliting arrray\n",
    "arr=np.array([1,2,3,4,5,6,7,8,9,0,3])\n",
    "new_arr=np.array_split(arr,3)\n",
    "print(new_arr)\n",
    "\n",
    "#searching array\n",
    "arr=np.array([1,2,3,4,5,4,6,4])\n",
    "x=np.where(arr==4)\n",
    "print(x)\n",
    "\n",
    "#sorting array\n",
    "print(np.sort(arr))\n",
    "\n",
    "\n",
    "#filtering array\n",
    "arr=np.array([41,42,43,44])\n",
    "x=[True,False,True,False]\n",
    "new_arr=arr[x]\n",
    "print(new_arr)"
   ]
  },
  {
   "cell_type": "code",
   "execution_count": 49,
   "id": "35fbb182-b10b-4830-98ad-dfea63356075",
   "metadata": {},
   "outputs": [
    {
     "name": "stdout",
     "output_type": "stream",
     "text": [
      "[False, False, True, True]\n",
      "[43 44]\n"
     ]
    }
   ],
   "source": [
    "#creating filtering array\n",
    "arr=np.array([41,42,43,44])\n",
    "filter_arr=[]\n",
    "for element in arr:\n",
    "    if element>42:\n",
    "        filter_arr.append(True)\n",
    "    else:\n",
    "        filter_arr.append(False)\n",
    "new_arr=arr[filter_arr]\n",
    "print(filter_arr)\n",
    "print(new_arr)"
   ]
  },
  {
   "cell_type": "code",
   "execution_count": 50,
   "id": "7ce8e0b1-dd7a-4e58-bec6-d349885505d3",
   "metadata": {},
   "outputs": [
    {
     "name": "stdout",
     "output_type": "stream",
     "text": [
      "float64\n",
      "[1 2 3 4 5 6 7 8]\n"
     ]
    }
   ],
   "source": [
    "#conversion of data types\n",
    "arr=np.array([1,2.5,3.5,4,5,6,7,8])\n",
    "print(arr.dtype)\n",
    "print(arr.astype(int))"
   ]
  },
  {
   "cell_type": "code",
   "execution_count": 51,
   "id": "525b2649-d590-4d77-bde1-be6011dcdf08",
   "metadata": {},
   "outputs": [
    {
     "name": "stdout",
     "output_type": "stream",
     "text": [
      "[10 20 30 40 50 60]\n",
      "[10 20 90 30 40]\n"
     ]
    }
   ],
   "source": [
    "#Adding and removing element\n",
    "arr=np.array([10,20,30,40])\n",
    "print(np.append(arr,[50,60]))  \n",
    "print(np.insert(arr,2,90))     #arr,index,element"
   ]
  },
  {
   "cell_type": "code",
   "execution_count": 52,
   "id": "ea3199f3-6007-4751-872f-863693e8a6d1",
   "metadata": {},
   "outputs": [
    {
     "name": "stdout",
     "output_type": "stream",
     "text": [
      "150\n",
      "10\n",
      "50\n",
      "[ 10  30  60 100 150]\n"
     ]
    }
   ],
   "source": [
    "#Aggregating functions\n",
    "a=np.array([10,20,30,40,50])\n",
    "   #Sum off all elements\n",
    "print(np.sum(a))\n",
    "   #minimum \n",
    "print(np.min(a))\n",
    "   #maximum\n",
    "print(np.max(a))\n",
    "   #cumulative sum\n",
    "print(np.cumsum(a))"
   ]
  },
  {
   "cell_type": "code",
   "execution_count": 53,
   "id": "86ea9370-4c87-473f-b8dd-a272b5e10009",
   "metadata": {},
   "outputs": [
    {
     "name": "stdout",
     "output_type": "stream",
     "text": [
      "40\n",
      "40\n",
      "20\n"
     ]
    }
   ],
   "source": [
    "#statistical functions\n",
    "import statistics as stats\n",
    "food_price=[20,30,40,50,60]\n",
    "a=np.array(food_price)\n",
    "#mean\n",
    "print(stats.mean(a))\n",
    "#median\n",
    "print(stats.median(a))\n",
    "#mode\n",
    "print(stats.mode(a))"
   ]
  },
  {
   "cell_type": "code",
   "execution_count": null,
   "id": "0c562a5b-ea7a-4596-8ad0-ef5952e8d272",
   "metadata": {},
   "outputs": [],
   "source": []
  }
 ],
 "metadata": {
  "kernelspec": {
   "display_name": "Python 3 (ipykernel)",
   "language": "python",
   "name": "python3"
  },
  "language_info": {
   "codemirror_mode": {
    "name": "ipython",
    "version": 3
   },
   "file_extension": ".py",
   "mimetype": "text/x-python",
   "name": "python",
   "nbconvert_exporter": "python",
   "pygments_lexer": "ipython3",
   "version": "3.12.7"
  }
 },
 "nbformat": 4,
 "nbformat_minor": 5
}
